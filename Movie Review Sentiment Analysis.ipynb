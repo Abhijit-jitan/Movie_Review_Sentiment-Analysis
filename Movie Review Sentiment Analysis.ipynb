{
 "cells": [
  {
   "cell_type": "code",
   "execution_count": null,
   "id": "brave-haiti",
   "metadata": {},
   "outputs": [],
   "source": [
    "import numpy as np \n",
    "import pandas as pd \n",
    "import nltk"
   ]
  },
  {
   "cell_type": "code",
   "execution_count": null,
   "id": "referenced-jamaica",
   "metadata": {},
   "outputs": [],
   "source": [
    "data = pd.read_csv('IMDB Dataset.csv')\n",
    "print(data.shape)\n",
    "data.head()"
   ]
  },
  {
   "cell_type": "markdown",
   "id": "aware-functionality",
   "metadata": {},
   "source": [
    "### STEPS TO CLEAN THE REVIEWS :\n",
    " - Remove HTML tags\n",
    " - Remove special characters(punctuation) & lowercaseed\n",
    " - Remove stopwords\n",
    " - Stemming with PorterStemmer\n",
    " - word to vectorizer using  tf-Idf vectorizer\n",
    " - Target Encoding\n",
    " \n",
    "### Train Model\n",
    " - Train-test-split\n",
    " - Modeling"
   ]
  },
  {
   "cell_type": "code",
   "execution_count": null,
   "id": "fixed-barbados",
   "metadata": {},
   "outputs": [],
   "source": [
    "## Remove html tags\n",
    "import re\n",
    "\n",
    "def remove_html_tag(text):\n",
    "    remove_html_tag = re.compile(r'<.*?>')\n",
    "    return re.sub(remove_html_tag,'',text)\n",
    "\n",
    "data['review']=data['review'].apply(remove_html_tag)"
   ]
  },
  {
   "cell_type": "code",
   "execution_count": null,
   "id": "allied-equipment",
   "metadata": {},
   "outputs": [],
   "source": [
    "# Remove punctuations\n",
    "import string\n",
    "def remove_punctuation(sentence):\n",
    "    review=[letters.lower() for letters in sentence if letters not in string.punctuation ]\n",
    "    review = ''.join(review)\n",
    "    return review\n",
    "\n",
    "\n",
    "data['review'] = data['review'].apply(remove_punctuation)"
   ]
  },
  {
   "cell_type": "code",
   "execution_count": null,
   "id": "caroline-destination",
   "metadata": {},
   "outputs": [],
   "source": [
    "## Remove Stopwords\n",
    "from nltk.corpus import stopwords\n",
    "def remove_stopwords(sentence):\n",
    "    stop_words=stopwords.words('english')\n",
    "    review=[words for words in sentence.split() if words not in stop_words]\n",
    "    review=' '.join(review)\n",
    "    return review\n",
    "\n",
    "\n",
    "data['review']=data['review'].apply(remove_stopwords)"
   ]
  },
  {
   "cell_type": "code",
   "execution_count": null,
   "id": "authorized-prison",
   "metadata": {},
   "outputs": [],
   "source": [
    "## Stemming\n",
    "from nltk import PorterStemmer \n",
    "ps=PorterStemmer() \n",
    "\n",
    "data['review'] = data['review'].apply(ps.stem)"
   ]
  },
  {
   "cell_type": "code",
   "execution_count": null,
   "id": "developed-single",
   "metadata": {},
   "outputs": [],
   "source": [
    "## tf-Idf vectorizer\n",
    "from sklearn.feature_extraction.text import TfidfVectorizer \n",
    "tdidf= TfidfVectorizer() \n",
    "x=tdidf.fit_transform(data['review']).toarray()\n",
    "# here x is array if want to use sparse (remove .toarray())"
   ]
  },
  {
   "cell_type": "code",
   "execution_count": null,
   "id": "magnetic-interface",
   "metadata": {},
   "outputs": [],
   "source": [
    "## Encoding Sentment Column\n",
    "data['sentiment'].replace(['positive','negative'],[1,0],inplace=True)\n",
    "\n",
    "y=data['sentiment']"
   ]
  },
  {
   "cell_type": "code",
   "execution_count": null,
   "id": "numerical-hotel",
   "metadata": {},
   "outputs": [],
   "source": [
    "## split data \n",
    "from sklearn.model_selection import train_test_split \n",
    "x_train,x_test,y_train,y_test = train_test_split(x,y,test_size=0.2)"
   ]
  },
  {
   "cell_type": "markdown",
   "id": "meaningful-spencer",
   "metadata": {},
   "source": [
    "### Modeling:"
   ]
  },
  {
   "cell_type": "code",
   "execution_count": null,
   "id": "specified-milwaukee",
   "metadata": {},
   "outputs": [],
   "source": [
    "from sklearn.model_selection import train_test_split\n",
    "from sklearn.naive_bayes import GaussianNB,MultinomialNB,BernoulliNB\n",
    "from sklearn.metrics import accuracy_score\n",
    "\n",
    "\n",
    "gnb,mnb,bnb = GaussianNB(),MultinomialNB(alpha=1.0,fit_prior=True),BernoulliNB(alpha=1.0,fit_prior=True)\n",
    "gnb.fit(x_train,y_train)\n",
    "mnb.fit(x_train,y_train)\n",
    "bnb.fit(x_train,y_train)"
   ]
  },
  {
   "cell_type": "code",
   "execution_count": null,
   "id": "black-distributor",
   "metadata": {},
   "outputs": [],
   "source": [
    "ypg = gnb.predict(x_test)\n",
    "ypm = mnb.predict(x_test)\n",
    "ypb = bnb.predict(x_test)\n",
    "\n",
    "print(\"Gaussian = \",accuracy_score(testy,ypg))\n",
    "print(\"Multinomial = \",accuracy_score(testy,ypm))\n",
    "print(\"Bernoulli = \",accuracy_score(testy,ypb))"
   ]
  },
  {
   "cell_type": "code",
   "execution_count": null,
   "id": "bizarre-observation",
   "metadata": {},
   "outputs": [],
   "source": []
  },
  {
   "cell_type": "code",
   "execution_count": null,
   "id": "offshore-depth",
   "metadata": {},
   "outputs": [],
   "source": [
    "import pickle\n",
    "\n",
    "pickle.dump(bnb,open('model1.pkl','wb'))"
   ]
  },
  {
   "cell_type": "markdown",
   "id": "democratic-tractor",
   "metadata": {},
   "source": [
    "\n",
    "# Extras (future scope)"
   ]
  },
  {
   "cell_type": "code",
   "execution_count": null,
   "id": "frequent-narrative",
   "metadata": {},
   "outputs": [],
   "source": [
    "rev =  \"\"\"Terrible. Complete trash. Brainless tripe. Insulting to anyone who isn't an 8 year old fan boy. Im actually pretty disgusted that this movie is making the money it is - what does it say about the people who brainlessly hand over the hard earned cash to be 'entertained' in this fashion and then come here to leave a positive 8.8 review?? Oh yes, they are morons. Its the only sensible conclusion to draw. How anyone can rate this movie amongst the pantheon of great titles is beyond me.\n",
    "\n",
    "So trying to find something constructive to say about this title is hard...I enjoyed Iron Man? Tony Stark is an inspirational character in his own movies but here he is a pale shadow of that...About the only 'hook' this movie had into me was wondering when and if Iron Man would knock Captain America out...Oh how I wished he had :( What were these other characters anyways? Useless, bickering idiots who really couldn't organise happy times in a brewery. The film was a chaotic mish mash of action elements and failed 'set pieces'...\n",
    "\n",
    "I found the villain to be quite amusing.\n",
    "\n",
    "And now I give up. This movie is not robbing any more of my time but I felt I ought to contribute to restoring the obvious fake rating and reviews this movie has been getting on IMDb.\"\"\"\n",
    "f1 = clean(rev)\n",
    "f2 = is_special(f1)\n",
    "f3 = to_lower(f2)\n",
    "f4 = rem_stopwords(f3)\n",
    "f5 = stem_txt(f4)\n",
    "\n",
    "bow,words = [],word_tokenize(f5)\n",
    "for word in words:\n",
    "    bow.append(words.count(word))\n",
    "#np.array(bow).reshape(1,3000)\n",
    "#bow.shape\n",
    "word_dict = cv.vocabulary_\n",
    "pickle.dump(word_dict,open('bow.pkl','wb'))"
   ]
  },
  {
   "cell_type": "code",
   "execution_count": null,
   "id": "homeless-object",
   "metadata": {},
   "outputs": [],
   "source": [
    "inp = []\n",
    "for i in word_dict:\n",
    "    inp.append(f5.count(i[0]))\n",
    "y_pred = bnb.predict(np.array(inp).reshape(1,1000))"
   ]
  }
 ],
 "metadata": {
  "kernelspec": {
   "display_name": "Python 3",
   "language": "python",
   "name": "python3"
  },
  "language_info": {
   "codemirror_mode": {
    "name": "ipython",
    "version": 3
   },
   "file_extension": ".py",
   "mimetype": "text/x-python",
   "name": "python",
   "nbconvert_exporter": "python",
   "pygments_lexer": "ipython3",
   "version": "3.6.8"
  }
 },
 "nbformat": 4,
 "nbformat_minor": 5
}
