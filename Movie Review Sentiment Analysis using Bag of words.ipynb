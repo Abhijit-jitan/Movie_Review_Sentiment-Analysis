{
 "cells": [
  {
   "cell_type": "markdown",
   "id": "precise-environment",
   "metadata": {
    "toc": true
   },
   "source": [
    "<h1>Table of Contents<span class=\"tocSkip\"></span></h1>\n",
    "<div class=\"toc\"><ul class=\"toc-item\"><li><ul class=\"toc-item\"><li><span><a href=\"#STEPS-TO-CLEAN-THE-REVIEWS-:\" data-toc-modified-id=\"STEPS-TO-CLEAN-THE-REVIEWS-:-0.1\"><span class=\"toc-item-num\">0.1&nbsp;&nbsp;</span>STEPS TO CLEAN THE REVIEWS :</a></span></li><li><span><a href=\"#Train-Model\" data-toc-modified-id=\"Train-Model-0.2\"><span class=\"toc-item-num\">0.2&nbsp;&nbsp;</span>Train Model</a></span></li></ul></li><li><span><a href=\"#Bag-of-Words-model\" data-toc-modified-id=\"Bag-of-Words-model-1\"><span class=\"toc-item-num\">1&nbsp;&nbsp;</span>Bag of Words model</a></span><ul class=\"toc-item\"><li><span><a href=\"#Modeling:\" data-toc-modified-id=\"Modeling:-1.1\"><span class=\"toc-item-num\">1.1&nbsp;&nbsp;</span>Modeling:</a></span></li></ul></li></ul></div>"
   ]
  },
  {
   "cell_type": "code",
   "execution_count": 1,
   "id": "brave-haiti",
   "metadata": {
    "ExecuteTime": {
     "end_time": "2021-10-11T12:13:56.481727Z",
     "start_time": "2021-10-11T12:13:51.134631Z"
    }
   },
   "outputs": [],
   "source": [
    "import numpy as np \n",
    "import pandas as pd \n",
    "import nltk"
   ]
  },
  {
   "cell_type": "code",
   "execution_count": 2,
   "id": "referenced-jamaica",
   "metadata": {
    "ExecuteTime": {
     "end_time": "2021-10-11T12:13:58.565929Z",
     "start_time": "2021-10-11T12:13:56.564731Z"
    }
   },
   "outputs": [],
   "source": [
    "data=pd.read_csv('IMDB Dataset.csv')\n"
   ]
  },
  {
   "cell_type": "code",
   "execution_count": 3,
   "id": "a29b9f3c",
   "metadata": {
    "ExecuteTime": {
     "end_time": "2021-10-11T12:13:58.741426Z",
     "start_time": "2021-10-11T12:13:58.683835Z"
    }
   },
   "outputs": [
    {
     "data": {
      "text/html": [
       "<div>\n",
       "<style scoped>\n",
       "    .dataframe tbody tr th:only-of-type {\n",
       "        vertical-align: middle;\n",
       "    }\n",
       "\n",
       "    .dataframe tbody tr th {\n",
       "        vertical-align: top;\n",
       "    }\n",
       "\n",
       "    .dataframe thead th {\n",
       "        text-align: right;\n",
       "    }\n",
       "</style>\n",
       "<table border=\"1\" class=\"dataframe\">\n",
       "  <thead>\n",
       "    <tr style=\"text-align: right;\">\n",
       "      <th></th>\n",
       "      <th>review</th>\n",
       "      <th>sentiment</th>\n",
       "    </tr>\n",
       "  </thead>\n",
       "  <tbody>\n",
       "    <tr>\n",
       "      <th>0</th>\n",
       "      <td>One of the other reviewers has mentioned that ...</td>\n",
       "      <td>positive</td>\n",
       "    </tr>\n",
       "    <tr>\n",
       "      <th>1</th>\n",
       "      <td>A wonderful little production. &lt;br /&gt;&lt;br /&gt;The...</td>\n",
       "      <td>positive</td>\n",
       "    </tr>\n",
       "    <tr>\n",
       "      <th>2</th>\n",
       "      <td>I thought this was a wonderful way to spend ti...</td>\n",
       "      <td>positive</td>\n",
       "    </tr>\n",
       "    <tr>\n",
       "      <th>3</th>\n",
       "      <td>Basically there's a family where a little boy ...</td>\n",
       "      <td>negative</td>\n",
       "    </tr>\n",
       "    <tr>\n",
       "      <th>4</th>\n",
       "      <td>Petter Mattei's \"Love in the Time of Money\" is...</td>\n",
       "      <td>positive</td>\n",
       "    </tr>\n",
       "  </tbody>\n",
       "</table>\n",
       "</div>"
      ],
      "text/plain": [
       "                                              review sentiment\n",
       "0  One of the other reviewers has mentioned that ...  positive\n",
       "1  A wonderful little production. <br /><br />The...  positive\n",
       "2  I thought this was a wonderful way to spend ti...  positive\n",
       "3  Basically there's a family where a little boy ...  negative\n",
       "4  Petter Mattei's \"Love in the Time of Money\" is...  positive"
      ]
     },
     "execution_count": 3,
     "metadata": {},
     "output_type": "execute_result"
    }
   ],
   "source": [
    "data.shape\n",
    "data.head()"
   ]
  },
  {
   "cell_type": "code",
   "execution_count": 4,
   "id": "a62ac994",
   "metadata": {
    "ExecuteTime": {
     "end_time": "2021-10-11T12:13:58.948417Z",
     "start_time": "2021-10-11T12:13:58.843419Z"
    }
   },
   "outputs": [],
   "source": [
    "## Word count Before Preprocessing\n",
    "data[\"pre_process_len\"]=data[\"review\"].str.len()"
   ]
  },
  {
   "cell_type": "markdown",
   "id": "aware-functionality",
   "metadata": {},
   "source": [
    "### STEPS TO CLEAN THE REVIEWS :\n",
    " - Remove HTML tags\n",
    " - Remove special characters(punctuation) & lowercaseed\n",
    " - Remove stopwords\n",
    " - Stemming with PorterStemmer\n",
    " - word to vectorizer using  tf-Idf vectorizer\n",
    " - Target Encoding\n",
    " \n",
    "### Train Model\n",
    " - Train-test-split\n",
    " - Modeling"
   ]
  },
  {
   "cell_type": "code",
   "execution_count": 5,
   "id": "fixed-barbados",
   "metadata": {
    "ExecuteTime": {
     "end_time": "2021-10-11T12:13:59.727509Z",
     "start_time": "2021-10-11T12:13:59.051418Z"
    }
   },
   "outputs": [],
   "source": [
    "## Remove html tags\n",
    "import re\n",
    "\n",
    "def remove_html_tag(text):\n",
    "    remove_html_tag=re.compile(r'<.*?>')\n",
    "    return re.sub(remove_html_tag,'',text)\n",
    "\n",
    "data['review']=data['review'].apply(remove_html_tag)"
   ]
  },
  {
   "cell_type": "code",
   "execution_count": 6,
   "id": "allied-equipment",
   "metadata": {
    "ExecuteTime": {
     "end_time": "2021-10-11T12:14:31.420537Z",
     "start_time": "2021-10-11T12:13:59.829423Z"
    }
   },
   "outputs": [],
   "source": [
    "## Remove punctuations\n",
    "import string\n",
    "def remove_punctuation(sentence):\n",
    "    review=[letters.lower() for letters in sentence if letters not in string.punctuation]\n",
    "    review=''.join(review)\n",
    "    return review\n",
    "\n",
    "data['review']=data['review'].apply(remove_punctuation)"
   ]
  },
  {
   "cell_type": "code",
   "execution_count": 7,
   "id": "caroline-destination",
   "metadata": {
    "ExecuteTime": {
     "end_time": "2021-10-11T12:15:49.075447Z",
     "start_time": "2021-10-11T12:14:31.523540Z"
    }
   },
   "outputs": [],
   "source": [
    "## Remove Stopwords\n",
    "from nltk.corpus import stopwords\n",
    "def remove_stopwords(sentence):\n",
    "    stop_words=stopwords.words('english')\n",
    "    review=[words for words in sentence.split() if words not in stop_words]\n",
    "    review=' '.join(review)\n",
    "    return review\n",
    "\n",
    "data['review']=data['review'].apply(remove_stopwords)"
   ]
  },
  {
   "cell_type": "code",
   "execution_count": 8,
   "id": "authorized-prison",
   "metadata": {
    "ExecuteTime": {
     "end_time": "2021-10-11T12:16:15.017477Z",
     "start_time": "2021-10-11T12:15:49.194352Z"
    }
   },
   "outputs": [],
   "source": [
    "## Stemming\n",
    "from nltk import PorterStemmer \n",
    "ps=PorterStemmer() \n",
    "\n",
    "data['review']=data['review'].apply(ps.stem)"
   ]
  },
  {
   "cell_type": "code",
   "execution_count": 9,
   "id": "48d75f85",
   "metadata": {
    "ExecuteTime": {
     "end_time": "2021-10-11T12:16:15.368329Z",
     "start_time": "2021-10-11T12:16:15.118393Z"
    }
   },
   "outputs": [
    {
     "name": "stdout",
     "output_type": "stream",
     "text": [
      "63.53842\n"
     ]
    },
    {
     "data": {
      "text/html": [
       "<div>\n",
       "<style scoped>\n",
       "    .dataframe tbody tr th:only-of-type {\n",
       "        vertical-align: middle;\n",
       "    }\n",
       "\n",
       "    .dataframe tbody tr th {\n",
       "        vertical-align: top;\n",
       "    }\n",
       "\n",
       "    .dataframe thead th {\n",
       "        text-align: right;\n",
       "    }\n",
       "</style>\n",
       "<table border=\"1\" class=\"dataframe\">\n",
       "  <thead>\n",
       "    <tr style=\"text-align: right;\">\n",
       "      <th></th>\n",
       "      <th>review</th>\n",
       "      <th>sentiment</th>\n",
       "      <th>pre_process_len</th>\n",
       "      <th>post_process_len</th>\n",
       "      <th>reduction_percent</th>\n",
       "    </tr>\n",
       "  </thead>\n",
       "  <tbody>\n",
       "    <tr>\n",
       "      <th>0</th>\n",
       "      <td>one reviewers mentioned watching 1 oz episode ...</td>\n",
       "      <td>positive</td>\n",
       "      <td>1761</td>\n",
       "      <td>1158</td>\n",
       "      <td>66.0</td>\n",
       "    </tr>\n",
       "    <tr>\n",
       "      <th>1</th>\n",
       "      <td>wonderful little production filming technique ...</td>\n",
       "      <td>positive</td>\n",
       "      <td>998</td>\n",
       "      <td>655</td>\n",
       "      <td>66.0</td>\n",
       "    </tr>\n",
       "    <tr>\n",
       "      <th>2</th>\n",
       "      <td>thought wonderful way spend time hot summer we...</td>\n",
       "      <td>positive</td>\n",
       "      <td>926</td>\n",
       "      <td>588</td>\n",
       "      <td>63.0</td>\n",
       "    </tr>\n",
       "    <tr>\n",
       "      <th>3</th>\n",
       "      <td>basically theres family little boy jake thinks...</td>\n",
       "      <td>negative</td>\n",
       "      <td>748</td>\n",
       "      <td>459</td>\n",
       "      <td>61.0</td>\n",
       "    </tr>\n",
       "    <tr>\n",
       "      <th>4</th>\n",
       "      <td>petter matteis love time money visually stunni...</td>\n",
       "      <td>positive</td>\n",
       "      <td>1317</td>\n",
       "      <td>863</td>\n",
       "      <td>66.0</td>\n",
       "    </tr>\n",
       "  </tbody>\n",
       "</table>\n",
       "</div>"
      ],
      "text/plain": [
       "                                              review sentiment  \\\n",
       "0  one reviewers mentioned watching 1 oz episode ...  positive   \n",
       "1  wonderful little production filming technique ...  positive   \n",
       "2  thought wonderful way spend time hot summer we...  positive   \n",
       "3  basically theres family little boy jake thinks...  negative   \n",
       "4  petter matteis love time money visually stunni...  positive   \n",
       "\n",
       "   pre_process_len  post_process_len  reduction_percent  \n",
       "0             1761              1158               66.0  \n",
       "1              998               655               66.0  \n",
       "2              926               588               63.0  \n",
       "3              748               459               61.0  \n",
       "4             1317               863               66.0  "
      ]
     },
     "execution_count": 9,
     "metadata": {},
     "output_type": "execute_result"
    }
   ],
   "source": [
    "## Word count After Preprocessing\n",
    "data[\"post_process_len\"]=data[\"review\"].str.len()   ## sentence length After preprocessing \n",
    "data[\"reduction_percent\"]=round((data[\"post_process_len\"]/data[\"pre_process_len\"])*100)  ## % of length reduction Afetr preprocessing \n",
    "print(data[\"reduction_percent\"].mean())      ## Reduction Avg. = 63 %\n",
    "\n",
    "data.head()"
   ]
  },
  {
   "cell_type": "code",
   "execution_count": 10,
   "id": "a683d5a6",
   "metadata": {
    "ExecuteTime": {
     "end_time": "2021-10-11T12:16:15.603278Z",
     "start_time": "2021-10-11T12:16:15.515333Z"
    }
   },
   "outputs": [
    {
     "data": {
      "text/html": [
       "<div>\n",
       "<style scoped>\n",
       "    .dataframe tbody tr th:only-of-type {\n",
       "        vertical-align: middle;\n",
       "    }\n",
       "\n",
       "    .dataframe tbody tr th {\n",
       "        vertical-align: top;\n",
       "    }\n",
       "\n",
       "    .dataframe thead th {\n",
       "        text-align: right;\n",
       "    }\n",
       "</style>\n",
       "<table border=\"1\" class=\"dataframe\">\n",
       "  <thead>\n",
       "    <tr style=\"text-align: right;\">\n",
       "      <th></th>\n",
       "      <th>review</th>\n",
       "      <th>sentiment</th>\n",
       "      <th>pre_process_len</th>\n",
       "      <th>post_process_len</th>\n",
       "      <th>reduction_percent</th>\n",
       "    </tr>\n",
       "  </thead>\n",
       "  <tbody>\n",
       "    <tr>\n",
       "      <th>0</th>\n",
       "      <td>one reviewers mentioned watching 1 oz episode ...</td>\n",
       "      <td>1</td>\n",
       "      <td>1761</td>\n",
       "      <td>1158</td>\n",
       "      <td>66.0</td>\n",
       "    </tr>\n",
       "    <tr>\n",
       "      <th>1</th>\n",
       "      <td>wonderful little production filming technique ...</td>\n",
       "      <td>1</td>\n",
       "      <td>998</td>\n",
       "      <td>655</td>\n",
       "      <td>66.0</td>\n",
       "    </tr>\n",
       "    <tr>\n",
       "      <th>2</th>\n",
       "      <td>thought wonderful way spend time hot summer we...</td>\n",
       "      <td>1</td>\n",
       "      <td>926</td>\n",
       "      <td>588</td>\n",
       "      <td>63.0</td>\n",
       "    </tr>\n",
       "    <tr>\n",
       "      <th>3</th>\n",
       "      <td>basically theres family little boy jake thinks...</td>\n",
       "      <td>0</td>\n",
       "      <td>748</td>\n",
       "      <td>459</td>\n",
       "      <td>61.0</td>\n",
       "    </tr>\n",
       "    <tr>\n",
       "      <th>4</th>\n",
       "      <td>petter matteis love time money visually stunni...</td>\n",
       "      <td>1</td>\n",
       "      <td>1317</td>\n",
       "      <td>863</td>\n",
       "      <td>66.0</td>\n",
       "    </tr>\n",
       "  </tbody>\n",
       "</table>\n",
       "</div>"
      ],
      "text/plain": [
       "                                              review  sentiment  \\\n",
       "0  one reviewers mentioned watching 1 oz episode ...          1   \n",
       "1  wonderful little production filming technique ...          1   \n",
       "2  thought wonderful way spend time hot summer we...          1   \n",
       "3  basically theres family little boy jake thinks...          0   \n",
       "4  petter matteis love time money visually stunni...          1   \n",
       "\n",
       "   pre_process_len  post_process_len  reduction_percent  \n",
       "0             1761              1158               66.0  \n",
       "1              998               655               66.0  \n",
       "2              926               588               63.0  \n",
       "3              748               459               61.0  \n",
       "4             1317               863               66.0  "
      ]
     },
     "execution_count": 10,
     "metadata": {},
     "output_type": "execute_result"
    }
   ],
   "source": [
    "## Encoding Sentment Column\n",
    "#sentiment_mapper={\"positive\":1,\"negative\":0}\n",
    "#data['label']=data['sentiment'].map(sentiment_mapper)\n",
    "\n",
    "data['sentiment'].replace(['positive','negative'],[1,0],inplace=True)\n",
    "data.head()\n",
    "\n",
    "labels=data['sentiment'].to_numpy()\n",
    "type(labels)\n",
    "labels"
   ]
  },
  {
   "cell_type": "markdown",
   "id": "8f17b34f",
   "metadata": {},
   "source": [
    "## Bag of Words model"
   ]
  },
  {
   "cell_type": "code",
   "execution_count": 11,
   "id": "3b5ce507",
   "metadata": {
    "ExecuteTime": {
     "end_time": "2021-10-11T12:20:33.266521Z",
     "start_time": "2021-10-11T12:20:17.954031Z"
    }
   },
   "outputs": [],
   "source": [
    "from sklearn.feature_extraction.text import CountVectorizer\n",
    "c_vectorizer=CountVectorizer(max_features=10000)\n",
    "x=c_vectorizer.fit_transform(data[\"review\"])#.toarray()\n",
    "\n",
    "#c_vectorizer.get_feature_names()    # Return feature names\n",
    "#c_vectorizer.vocabulary_            # word mapping(dict)\n",
    "#c_vectorizer.fixed_vocabulary_      # False: As indices mapping is provided by user"
   ]
  },
  {
   "cell_type": "code",
   "execution_count": 16,
   "id": "efc0188d",
   "metadata": {
    "ExecuteTime": {
     "end_time": "2021-10-11T12:25:43.728492Z",
     "start_time": "2021-10-11T12:25:43.701905Z"
    }
   },
   "outputs": [
    {
     "data": {
      "text/plain": [
       "scipy.sparse.csr.csr_matrix"
      ]
     },
     "execution_count": 16,
     "metadata": {},
     "output_type": "execute_result"
    }
   ],
   "source": [
    "x.shape\n",
    "#np.unique(x[0])\n",
    "type(x)"
   ]
  },
  {
   "cell_type": "code",
   "execution_count": 20,
   "id": "numerical-hotel",
   "metadata": {
    "ExecuteTime": {
     "end_time": "2021-10-11T12:29:01.233963Z",
     "start_time": "2021-10-11T12:29:01.117419Z"
    }
   },
   "outputs": [],
   "source": [
    "## split data \n",
    "from sklearn.model_selection import train_test_split \n",
    "x_train,x_test,y_train,y_test=train_test_split(x,labels,train_size=0.75)"
   ]
  },
  {
   "cell_type": "markdown",
   "id": "meaningful-spencer",
   "metadata": {},
   "source": [
    "### Modeling:"
   ]
  },
  {
   "cell_type": "code",
   "execution_count": 24,
   "id": "51eb41a2",
   "metadata": {
    "ExecuteTime": {
     "end_time": "2021-10-11T12:33:33.618572Z",
     "start_time": "2021-10-11T12:33:29.085226Z"
    }
   },
   "outputs": [
    {
     "name": "stderr",
     "output_type": "stream",
     "text": [
      "C:\\Users\\JokeRR\\anaconda3\\lib\\site-packages\\sklearn\\linear_model\\_logistic.py:763: ConvergenceWarning: lbfgs failed to converge (status=1):\n",
      "STOP: TOTAL NO. of ITERATIONS REACHED LIMIT.\n",
      "\n",
      "Increase the number of iterations (max_iter) or scale the data as shown in:\n",
      "    https://scikit-learn.org/stable/modules/preprocessing.html\n",
      "Please also refer to the documentation for alternative solver options:\n",
      "    https://scikit-learn.org/stable/modules/linear_model.html#logistic-regression\n",
      "  n_iter_i = _check_optimize_result(\n"
     ]
    }
   ],
   "source": [
    "from sklearn.linear_model import LogisticRegression\n",
    "\n",
    "\n",
    "lr=LogisticRegression(C=0.1)\n",
    "lr.fit(x_train,y_train)\n",
    "\n",
    "ypred=lr.predict(x_test)"
   ]
  },
  {
   "cell_type": "code",
   "execution_count": null,
   "id": "6fc77e5c",
   "metadata": {},
   "outputs": [],
   "source": []
  },
  {
   "cell_type": "code",
   "execution_count": 35,
   "id": "specified-milwaukee",
   "metadata": {
    "ExecuteTime": {
     "end_time": "2021-10-11T20:37:27.987446Z",
     "start_time": "2021-10-11T20:35:51.601374Z"
    }
   },
   "outputs": [
    {
     "data": {
      "text/plain": [
       "MultinomialNB()"
      ]
     },
     "execution_count": 35,
     "metadata": {},
     "output_type": "execute_result"
    }
   ],
   "source": [
    "from sklearn.model_selection import train_test_split\n",
    "from sklearn.naive_bayes import GaussianNB,MultinomialNB,BernoulliNB\n",
    "from sklearn.metrics import accuracy_score\n",
    "\n",
    "\n",
    "gnb=GaussianNB()\n",
    "mnb=BernoulliNB(alpha=1.0,fit_prior=True)\n",
    "bnb=MultinomialNB(alpha=1.0,fit_prior=True)\n",
    "\n",
    "\n",
    "gnb.fit(x_train.toarray(),y_train)\n",
    "mnb.fit(x_train.toarray(),y_train)\n",
    "bnb.fit(x_train.toarray(),y_train)"
   ]
  },
  {
   "cell_type": "code",
   "execution_count": 37,
   "id": "black-distributor",
   "metadata": {
    "ExecuteTime": {
     "end_time": "2021-10-12T07:39:43.118229Z",
     "start_time": "2021-10-12T07:39:28.298406Z"
    }
   },
   "outputs": [
    {
     "name": "stdout",
     "output_type": "stream",
     "text": [
      "Gaussian = 0.73976\n",
      "Multinomial =  0.85352\n",
      "Bernoulli =  0.85016\n"
     ]
    }
   ],
   "source": [
    "ypg=gnb.predict(x_test.toarray())\n",
    "ypm=mnb.predict(x_test.toarray())\n",
    "ypb=bnb.predict(x_test.toarray())\n",
    "\n",
    "print(\"Gaussian =\",accuracy_score(y_test,ypg))\n",
    "print(\"Multinomial = \",accuracy_score(y_test,ypm))\n",
    "print(\"Bernoulli = \",accuracy_score(y_test,ypb))"
   ]
  },
  {
   "cell_type": "code",
   "execution_count": 28,
   "id": "bizarre-observation",
   "metadata": {
    "ExecuteTime": {
     "end_time": "2021-10-11T12:37:08.320562Z",
     "start_time": "2021-10-11T12:36:38.573488Z"
    }
   },
   "outputs": [
    {
     "name": "stderr",
     "output_type": "stream",
     "text": [
      "C:\\Users\\JokeRR\\anaconda3\\lib\\site-packages\\sklearn\\linear_model\\_logistic.py:763: ConvergenceWarning: lbfgs failed to converge (status=1):\n",
      "STOP: TOTAL NO. of ITERATIONS REACHED LIMIT.\n",
      "\n",
      "Increase the number of iterations (max_iter) or scale the data as shown in:\n",
      "    https://scikit-learn.org/stable/modules/preprocessing.html\n",
      "Please also refer to the documentation for alternative solver options:\n",
      "    https://scikit-learn.org/stable/modules/linear_model.html#logistic-regression\n",
      "  n_iter_i = _check_optimize_result(\n",
      "C:\\Users\\JokeRR\\anaconda3\\lib\\site-packages\\sklearn\\linear_model\\_logistic.py:763: ConvergenceWarning: lbfgs failed to converge (status=1):\n",
      "STOP: TOTAL NO. of ITERATIONS REACHED LIMIT.\n",
      "\n",
      "Increase the number of iterations (max_iter) or scale the data as shown in:\n",
      "    https://scikit-learn.org/stable/modules/preprocessing.html\n",
      "Please also refer to the documentation for alternative solver options:\n",
      "    https://scikit-learn.org/stable/modules/linear_model.html#logistic-regression\n",
      "  n_iter_i = _check_optimize_result(\n",
      "C:\\Users\\JokeRR\\anaconda3\\lib\\site-packages\\sklearn\\linear_model\\_logistic.py:763: ConvergenceWarning: lbfgs failed to converge (status=1):\n",
      "STOP: TOTAL NO. of ITERATIONS REACHED LIMIT.\n",
      "\n",
      "Increase the number of iterations (max_iter) or scale the data as shown in:\n",
      "    https://scikit-learn.org/stable/modules/preprocessing.html\n",
      "Please also refer to the documentation for alternative solver options:\n",
      "    https://scikit-learn.org/stable/modules/linear_model.html#logistic-regression\n",
      "  n_iter_i = _check_optimize_result(\n",
      "C:\\Users\\JokeRR\\anaconda3\\lib\\site-packages\\sklearn\\linear_model\\_logistic.py:763: ConvergenceWarning: lbfgs failed to converge (status=1):\n",
      "STOP: TOTAL NO. of ITERATIONS REACHED LIMIT.\n",
      "\n",
      "Increase the number of iterations (max_iter) or scale the data as shown in:\n",
      "    https://scikit-learn.org/stable/modules/preprocessing.html\n",
      "Please also refer to the documentation for alternative solver options:\n",
      "    https://scikit-learn.org/stable/modules/linear_model.html#logistic-regression\n",
      "  n_iter_i = _check_optimize_result(\n",
      "C:\\Users\\JokeRR\\anaconda3\\lib\\site-packages\\sklearn\\linear_model\\_logistic.py:763: ConvergenceWarning: lbfgs failed to converge (status=1):\n",
      "STOP: TOTAL NO. of ITERATIONS REACHED LIMIT.\n",
      "\n",
      "Increase the number of iterations (max_iter) or scale the data as shown in:\n",
      "    https://scikit-learn.org/stable/modules/preprocessing.html\n",
      "Please also refer to the documentation for alternative solver options:\n",
      "    https://scikit-learn.org/stable/modules/linear_model.html#logistic-regression\n",
      "  n_iter_i = _check_optimize_result(\n",
      "C:\\Users\\JokeRR\\anaconda3\\lib\\site-packages\\sklearn\\linear_model\\_logistic.py:763: ConvergenceWarning: lbfgs failed to converge (status=1):\n",
      "STOP: TOTAL NO. of ITERATIONS REACHED LIMIT.\n",
      "\n",
      "Increase the number of iterations (max_iter) or scale the data as shown in:\n",
      "    https://scikit-learn.org/stable/modules/preprocessing.html\n",
      "Please also refer to the documentation for alternative solver options:\n",
      "    https://scikit-learn.org/stable/modules/linear_model.html#logistic-regression\n",
      "  n_iter_i = _check_optimize_result(\n"
     ]
    },
    {
     "data": {
      "text/plain": [
       "0.8665590936614455"
      ]
     },
     "execution_count": 28,
     "metadata": {},
     "output_type": "execute_result"
    }
   ],
   "source": [
    "## cross-val_score with 'data-splitting methods'\n",
    "from sklearn.model_selection import cross_val_score\n",
    "scores=cross_val_score(lr,x_test,y_test,cv=15,scoring=\"accuracy\") \n",
    "np.average(scores)"
   ]
  },
  {
   "cell_type": "code",
   "execution_count": 32,
   "id": "a19d83ae",
   "metadata": {
    "ExecuteTime": {
     "end_time": "2021-10-11T20:29:58.185864Z",
     "start_time": "2021-10-11T20:29:58.123381Z"
    }
   },
   "outputs": [
    {
     "data": {
      "text/plain": [
       "array([[5444,  720],\n",
       "       [ 699, 5637]], dtype=int64)"
      ]
     },
     "execution_count": 32,
     "metadata": {},
     "output_type": "execute_result"
    }
   ],
   "source": [
    "## Confusion Matrix\n",
    "from sklearn.metrics import confusion_matrix\n",
    "confusion_matrix(y_test,ypred)"
   ]
  },
  {
   "cell_type": "code",
   "execution_count": 31,
   "id": "7c1c40fc",
   "metadata": {
    "ExecuteTime": {
     "end_time": "2021-10-11T20:27:44.610802Z",
     "start_time": "2021-10-11T20:27:44.506217Z"
    }
   },
   "outputs": [
    {
     "name": "stdout",
     "output_type": "stream",
     "text": [
      "              precision    recall  f1-score   support\n",
      "\n",
      "           0       0.89      0.88      0.88      6164\n",
      "           1       0.89      0.89      0.89      6336\n",
      "\n",
      "    accuracy                           0.89     12500\n",
      "   macro avg       0.89      0.89      0.89     12500\n",
      "weighted avg       0.89      0.89      0.89     12500\n",
      "\n"
     ]
    }
   ],
   "source": [
    "## Classification Report\n",
    "from sklearn.metrics import classification_report\n",
    "print(classification_report(y_test,ypred))\n"
   ]
  },
  {
   "cell_type": "code",
   "execution_count": null,
   "id": "a4ac56bd",
   "metadata": {},
   "outputs": [],
   "source": []
  },
  {
   "cell_type": "code",
   "execution_count": null,
   "id": "c875e3b7",
   "metadata": {},
   "outputs": [],
   "source": []
  }
 ],
 "metadata": {
  "hide_input": false,
  "kernelspec": {
   "display_name": "Python 3",
   "language": "python",
   "name": "python3"
  },
  "language_info": {
   "codemirror_mode": {
    "name": "ipython",
    "version": 3
   },
   "file_extension": ".py",
   "mimetype": "text/x-python",
   "name": "python",
   "nbconvert_exporter": "python",
   "pygments_lexer": "ipython3",
   "version": "3.8.8"
  },
  "latex_envs": {
   "LaTeX_envs_menu_present": true,
   "autoclose": false,
   "autocomplete": true,
   "bibliofile": "biblio.bib",
   "cite_by": "apalike",
   "current_citInitial": 1,
   "eqLabelWithNumbers": true,
   "eqNumInitial": 1,
   "hotkeys": {
    "equation": "Ctrl-E",
    "itemize": "Ctrl-I"
   },
   "labels_anchors": false,
   "latex_user_defs": false,
   "report_style_numbering": false,
   "user_envs_cfg": false
  },
  "toc": {
   "base_numbering": 1,
   "nav_menu": {},
   "number_sections": true,
   "sideBar": true,
   "skip_h1_title": false,
   "title_cell": "Table of Contents",
   "title_sidebar": "Contents",
   "toc_cell": true,
   "toc_position": {},
   "toc_section_display": true,
   "toc_window_display": false
  },
  "varInspector": {
   "cols": {
    "lenName": 16,
    "lenType": 16,
    "lenVar": 40
   },
   "kernels_config": {
    "python": {
     "delete_cmd_postfix": "",
     "delete_cmd_prefix": "del ",
     "library": "var_list.py",
     "varRefreshCmd": "print(var_dic_list())"
    },
    "r": {
     "delete_cmd_postfix": ") ",
     "delete_cmd_prefix": "rm(",
     "library": "var_list.r",
     "varRefreshCmd": "cat(var_dic_list()) "
    }
   },
   "types_to_exclude": [
    "module",
    "function",
    "builtin_function_or_method",
    "instance",
    "_Feature"
   ],
   "window_display": false
  }
 },
 "nbformat": 4,
 "nbformat_minor": 5
}
